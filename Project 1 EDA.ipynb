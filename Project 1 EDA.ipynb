{
 "cells": [
  {
   "cell_type": "markdown",
   "id": "d512bef7-2e20-4aa3-a712-ff2b612779a9",
   "metadata": {
    "editable": true,
    "slideshow": {
     "slide_type": ""
    },
    "tags": []
   },
   "source": [
    "**Operations Research in Action &#x25aa; Fall 2024**"
   ]
  },
  {
   "cell_type": "markdown",
   "id": "d20be1b6-26bc-459b-bbc6-fca963d33648",
   "metadata": {
    "editable": true,
    "slideshow": {
     "slide_type": ""
    },
    "tags": []
   },
   "source": [
    "# Project 1 &ndash; Exploratory Data Analysis\n",
    "\n",
    "When we start a new project and receive data, the data may be messy and the relationships within the data are unclear. Therefore, the first step of an Operations Research project will often include data wrangling and exploratory data analysis (EDA). Data wrangling is the process of cleaning data and restructuring it for easy analysis. Exploratory data analysis helps us uncover patterns that exist within the data and identify the underlying relationships in the dataset. Ultimately, our goal is produce analysis and visualizations that provide insight to formal statistical analysis or modeling. "
   ]
  },
  {
   "cell_type": "markdown",
   "id": "98dad2aa-8414-422e-a525-c4ebf1494bb6",
   "metadata": {
    "editable": true,
    "slideshow": {
     "slide_type": ""
    },
    "tags": []
   },
   "source": [
    "## Loading useful Python packages and raw data into Python"
   ]
  },
  {
   "cell_type": "code",
   "execution_count": null,
   "id": "e433e5ba-ad9d-4041-8f3f-fd5bf128c262",
   "metadata": {
    "editable": true,
    "slideshow": {
     "slide_type": ""
    },
    "tags": []
   },
   "outputs": [],
   "source": [
    "import pandas as pd\n",
    "import matplotlib.pyplot as plt\n",
    "import numpy as np\n",
    "from time import strptime"
   ]
  },
  {
   "cell_type": "markdown",
   "id": "7643e5d1-194e-4144-8ee8-bb1c15349d51",
   "metadata": {
    "editable": true,
    "slideshow": {
     "slide_type": ""
    },
    "tags": []
   },
   "source": [
    "Use the function `pd.read_excel()` to read in the Demand data on tab Table A3 from the excel file TablesA3A4.xls. \n",
    "When you load this data frame, it may be helpful to rename some of the columns, so 'Beer Consumption (lt)' could renamed 'BeerConsumption'. Make sure to double check that the data frame uploaded correctly. "
   ]
  },
  {
   "cell_type": "code",
   "execution_count": null,
   "id": "4500f3bc-472a-4ce8-affb-86c09ed1c6e0",
   "metadata": {
    "editable": true,
    "slideshow": {
     "slide_type": ""
    },
    "tags": []
   },
   "outputs": [],
   "source": [
    "demand_price_df = pd.read_excel(..., sheet name = ..., skiprows = ..., nrows = ..., header = ..., names = ... )\n",
    "\n",
    "demand_price_df.head()"
   ]
  },
  {
   "cell_type": "markdown",
   "id": "feef638e-72e4-4165-b7de-ba165428d29c",
   "metadata": {
    "editable": true,
    "slideshow": {
     "slide_type": ""
    },
    "tags": []
   },
   "source": [
    "On your own, create the data frames `tourist_df`, `ramadan_days_df`, and `beer_consumption_df` using the Excel tabs Table A4, RamadanDays, and DailyBeerConsumption, respectively. "
   ]
  },
  {
   "cell_type": "code",
   "execution_count": null,
   "id": "3af64485-70cc-4ac2-8dd4-5ce0dc271a03",
   "metadata": {
    "editable": true,
    "slideshow": {
     "slide_type": ""
    },
    "tags": []
   },
   "outputs": [],
   "source": [
    "tourist_df = ... "
   ]
  },
  {
   "cell_type": "code",
   "execution_count": null,
   "id": "67d964db-7ff6-4f2b-a559-fb2f9f31a78e",
   "metadata": {
    "editable": true,
    "slideshow": {
     "slide_type": ""
    },
    "tags": []
   },
   "outputs": [],
   "source": [
    "ramadan_days_df = ... "
   ]
  },
  {
   "cell_type": "code",
   "execution_count": null,
   "id": "f26e8873-cc07-4bd7-bb77-32f185051330",
   "metadata": {
    "editable": true,
    "slideshow": {
     "slide_type": ""
    },
    "tags": []
   },
   "outputs": [],
   "source": [
    "beer_consumption_df = ... "
   ]
  },
  {
   "cell_type": "markdown",
   "id": "507f9397-1b19-4695-9569-320fa315aedd",
   "metadata": {
    "editable": true,
    "slideshow": {
     "slide_type": ""
    },
    "tags": []
   },
   "source": [
    "## Exploratory data analysis\n",
    "\n",
    "In this project, we want to forecast the beer consumption for the following year. Let's begin by looking at historic beer consumption. Create a graph that plots Beer Consumption by Month and Year. "
   ]
  },
  {
   "cell_type": "code",
   "execution_count": null,
   "id": "11ca4251-823a-4775-8484-46dbb9677156",
   "metadata": {
    "editable": true,
    "slideshow": {
     "slide_type": ""
    },
    "tags": []
   },
   "outputs": [],
   "source": [
    "colormap = np.array(['black', 'brown', 'red', 'orange', 'yellow', 'green', 'blue', 'cyan',  'purple', 'fuchsia', 'pink', 'white'])\n",
    "\n"
   ]
  },
  {
   "cell_type": "markdown",
   "id": "6694feaf-dbbb-4985-8c35-5a72362c70dd",
   "metadata": {
    "editable": true,
    "slideshow": {
     "slide_type": ""
    },
    "tags": []
   },
   "source": [
    "What do you notice about this graph? "
   ]
  },
  {
   "cell_type": "markdown",
   "id": "cb2bc459-0fbe-4cc6-8073-9e9fc39ad234",
   "metadata": {
    "editable": true,
    "slideshow": {
     "slide_type": ""
    },
    "tags": []
   },
   "source": []
  },
  {
   "attachments": {},
   "cell_type": "markdown",
   "id": "32291063-f62c-4af2-bd67-24aea3ad3167",
   "metadata": {
    "editable": true,
    "slideshow": {
     "slide_type": ""
    },
    "tags": []
   },
   "source": [
    "### Exercise 1 \n",
    "\n",
    "Explore the relationship between beer consumption and the average beer price. What do you notice?  \n",
    "\n",
    "Use the following code cell to conduct your analysis. In complete sentences, write about what you have gathered from these graphs. "
   ]
  },
  {
   "cell_type": "code",
   "execution_count": null,
   "id": "9d7df123-75a2-45dc-ae89-fb922bd38565",
   "metadata": {
    "editable": true,
    "slideshow": {
     "slide_type": ""
    },
    "tags": []
   },
   "outputs": [],
   "source": []
  },
  {
   "cell_type": "markdown",
   "id": "4238098b-dce1-4ee9-a4d3-7267efcd59e6",
   "metadata": {
    "editable": true,
    "slideshow": {
     "slide_type": ""
    },
    "tags": []
   },
   "source": [
    "### Exercise 2 \n",
    "This data set also includes information about the average prices of several beer substitutes (Raki, canned soft drinks, canned beer, and draft beer). Think about how this price information may be used in our analysis. Make a graph that demonstrates the relationship between the price of canned beer, the price of Anadolu Efes beer, and the amount of Anadolu Efes beer consumed. "
   ]
  },
  {
   "cell_type": "code",
   "execution_count": null,
   "id": "4364855e-e725-44a2-af1a-7a47896147c3",
   "metadata": {
    "editable": true,
    "slideshow": {
     "slide_type": ""
    },
    "tags": []
   },
   "outputs": [],
   "source": []
  },
  {
   "cell_type": "markdown",
   "id": "2a2b1c3f-b2ae-4983-91fd-d60db4d1fc9d",
   "metadata": {
    "editable": true,
    "slideshow": {
     "slide_type": ""
    },
    "tags": []
   },
   "source": [
    "## Data wrangling for EDA \n",
    "\n",
    "We want to further investigate the effect of Ramadan on beer consumption. Currently, these are two separate data frames. We are going to wrangle these two separate data frames into a single data frame using the `merge` method. For help with the `merge` method in Pandas, you can reference [the documentation here](https://pandas.pydata.org/pandas-docs/stable/reference/api/pandas.DataFrame.merge.html). "
   ]
  },
  {
   "cell_type": "code",
   "execution_count": null,
   "id": "c408d4a4-0d06-4157-a61d-ff9f5a342fd8",
   "metadata": {
    "editable": true,
    "slideshow": {
     "slide_type": ""
    },
    "tags": []
   },
   "outputs": [],
   "source": [
    "demand_price_df.head()"
   ]
  },
  {
   "cell_type": "code",
   "execution_count": null,
   "id": "1caae2c5-59a5-4ae7-a949-e0e4d11166c1",
   "metadata": {
    "editable": true,
    "slideshow": {
     "slide_type": ""
    },
    "tags": []
   },
   "outputs": [],
   "source": [
    "ramadan_days_df.head()"
   ]
  },
  {
   "cell_type": "markdown",
   "id": "6064e2ed-ef03-4645-af53-aec7fa654cff",
   "metadata": {
    "editable": true,
    "slideshow": {
     "slide_type": ""
    },
    "tags": []
   },
   "source": [
    "To merge the data frames based on the values of Year and Month, we can do this:"
   ]
  },
  {
   "cell_type": "code",
   "execution_count": null,
   "id": "ee603ff7-b6f0-4bc6-9a91-dfca04520836",
   "metadata": {
    "editable": true,
    "slideshow": {
     "slide_type": ""
    },
    "tags": []
   },
   "outputs": [],
   "source": [
    "merged_df = ....merge(...., how = ..., on = ...) "
   ]
  },
  {
   "cell_type": "markdown",
   "id": "e470dd24-73e5-450c-8d4c-8ef6fc645e3e",
   "metadata": {
    "editable": true,
    "slideshow": {
     "slide_type": ""
    },
    "tags": []
   },
   "source": [
    "Create a histogram that demonstrates the difference in beer consumption during months which Ramadan occurs. "
   ]
  },
  {
   "cell_type": "code",
   "execution_count": null,
   "id": "f9174ea5-4614-4b09-9b2a-ac1e255f998f",
   "metadata": {
    "editable": true,
    "slideshow": {
     "slide_type": ""
    },
    "tags": []
   },
   "outputs": [],
   "source": []
  },
  {
   "cell_type": "markdown",
   "id": "98de2d55-3b70-444c-b4b9-9f9765fd6a01",
   "metadata": {
    "editable": true,
    "slideshow": {
     "slide_type": ""
    },
    "tags": []
   },
   "source": [
    "### Exercise 3 \n",
    "We want to consider how tourism affects beer consumption. Wrangle the `merged_df`, `tourist_df`, and `beer_consumption_df` to create one data frame called `all_df`. Create a graph to help us understand how much tourist beer consumption affects the total beer consumption at Anadolu Efes."
   ]
  },
  {
   "cell_type": "code",
   "execution_count": null,
   "id": "4d6c6c21-034f-4458-b2f8-1512472cbabd",
   "metadata": {
    "editable": true,
    "slideshow": {
     "slide_type": ""
    },
    "tags": []
   },
   "outputs": [],
   "source": []
  }
 ],
 "metadata": {
  "kernelspec": {
   "display_name": "Python 3 (ipykernel)",
   "language": "python",
   "name": "python3"
  },
  "language_info": {
   "codemirror_mode": {
    "name": "ipython",
    "version": 3
   },
   "file_extension": ".py",
   "mimetype": "text/x-python",
   "name": "python",
   "nbconvert_exporter": "python",
   "pygments_lexer": "ipython3",
   "version": "3.11.6"
  }
 },
 "nbformat": 4,
 "nbformat_minor": 5
}
