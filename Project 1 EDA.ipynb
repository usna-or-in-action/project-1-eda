{
 "cells": [
  {
   "cell_type": "markdown",
   "id": "d512bef7-2e20-4aa3-a712-ff2b612779a9",
   "metadata": {
    "editable": true,
    "slideshow": {
     "slide_type": ""
    },
    "tags": []
   },
   "source": [
    "**Operations Research in Action &#x25aa; Fall 2024**"
   ]
  },
  {
   "cell_type": "markdown",
   "id": "d20be1b6-26bc-459b-bbc6-fca963d33648",
   "metadata": {
    "editable": true,
    "slideshow": {
     "slide_type": ""
    },
    "tags": []
   },
   "source": [
    "# Project 1 &ndash; Exploratory Data Analysis\n",
    "\n",
    "When we start a new project and receive data, the data may be messy and the relationships within the data are unclear. Therefore, the first step of an Operations Research project will often include data wrangling and exploratory data analysis (EDA). Data wrangling is the process of cleaning data and restructuring it for easy analysis. Exploratory data analysis helps us uncover patterns that exist within the data and identify the underlying relationships in the dataset. Ultimately, our goal is produce analysis and visualizations that provide insight to formal statistical analysis or modeling. "
   ]
  },
  {
   "cell_type": "markdown",
   "id": "98dad2aa-8414-422e-a525-c4ebf1494bb6",
   "metadata": {
    "editable": true,
    "slideshow": {
     "slide_type": ""
    },
    "tags": []
   },
   "source": [
    "## Loading useful Python packages and raw data into Python"
   ]
  },
  {
   "cell_type": "code",
   "execution_count": 1,
   "id": "e433e5ba-ad9d-4041-8f3f-fd5bf128c262",
   "metadata": {
    "editable": true,
    "slideshow": {
     "slide_type": ""
    },
    "tags": []
   },
   "outputs": [],
   "source": [
    "import pandas as pd\n",
    "import matplotlib.pyplot as plt\n",
    "import numpy as np\n",
    "from time import strptime"
   ]
  },
  {
   "cell_type": "markdown",
   "id": "7643e5d1-194e-4144-8ee8-bb1c15349d51",
   "metadata": {
    "editable": true,
    "slideshow": {
     "slide_type": ""
    },
    "tags": []
   },
   "source": [
    "Use the function `pd.read_excel()` to read in the Demand data on tab Table A3 from the excel file TablesA3A4.xls. \n",
    "When you load this data frame, it may be helpful to rename some of the columns, so 'Beer Consumption (lt)' could renamed 'BeerConsumption'. Make sure to double check that the data frame uploaded correctly. "
   ]
  },
  {
   "cell_type": "code",
   "execution_count": 2,
   "id": "4500f3bc-472a-4ce8-affb-86c09ed1c6e0",
   "metadata": {
    "editable": true,
    "slideshow": {
     "slide_type": ""
    },
    "tags": []
   },
   "outputs": [
    {
     "data": {
      "text/html": [
       "<div>\n",
       "<style scoped>\n",
       "    .dataframe tbody tr th:only-of-type {\n",
       "        vertical-align: middle;\n",
       "    }\n",
       "\n",
       "    .dataframe tbody tr th {\n",
       "        vertical-align: top;\n",
       "    }\n",
       "\n",
       "    .dataframe thead th {\n",
       "        text-align: right;\n",
       "    }\n",
       "</style>\n",
       "<table border=\"1\" class=\"dataframe\">\n",
       "  <thead>\n",
       "    <tr style=\"text-align: right;\">\n",
       "      <th></th>\n",
       "      <th>Year</th>\n",
       "      <th>Month</th>\n",
       "      <th>BeerConsumption</th>\n",
       "      <th>AverageBeerPrice</th>\n",
       "      <th>AverageRakiPrice</th>\n",
       "      <th>AverageCannedSoftDrinkPrice</th>\n",
       "      <th>AverageCannedBeerPrice</th>\n",
       "      <th>AverageDraftBeerPrice</th>\n",
       "    </tr>\n",
       "  </thead>\n",
       "  <tbody>\n",
       "    <tr>\n",
       "      <th>0</th>\n",
       "      <td>1987</td>\n",
       "      <td>January</td>\n",
       "      <td>13621800</td>\n",
       "      <td>1338.424656</td>\n",
       "      <td>9715.74</td>\n",
       "      <td>2208.12</td>\n",
       "      <td>2671.750</td>\n",
       "      <td>971.574039</td>\n",
       "    </tr>\n",
       "    <tr>\n",
       "      <th>1</th>\n",
       "      <td>1987</td>\n",
       "      <td>February</td>\n",
       "      <td>14346944</td>\n",
       "      <td>1314.441618</td>\n",
       "      <td>9460.31</td>\n",
       "      <td>2150.07</td>\n",
       "      <td>2866.475</td>\n",
       "      <td>946.031197</td>\n",
       "    </tr>\n",
       "    <tr>\n",
       "      <th>2</th>\n",
       "      <td>1987</td>\n",
       "      <td>March</td>\n",
       "      <td>14912839</td>\n",
       "      <td>1267.542544</td>\n",
       "      <td>9122.77</td>\n",
       "      <td>2073.36</td>\n",
       "      <td>2764.199</td>\n",
       "      <td>912.276950</td>\n",
       "    </tr>\n",
       "    <tr>\n",
       "      <th>3</th>\n",
       "      <td>1987</td>\n",
       "      <td>April</td>\n",
       "      <td>16129850</td>\n",
       "      <td>1241.471640</td>\n",
       "      <td>8935.13</td>\n",
       "      <td>2030.71</td>\n",
       "      <td>2707.345</td>\n",
       "      <td>893.513173</td>\n",
       "    </tr>\n",
       "    <tr>\n",
       "      <th>4</th>\n",
       "      <td>1987</td>\n",
       "      <td>May</td>\n",
       "      <td>12140503</td>\n",
       "      <td>1183.481067</td>\n",
       "      <td>8517.76</td>\n",
       "      <td>1935.85</td>\n",
       "      <td>2580.882</td>\n",
       "      <td>851.776142</td>\n",
       "    </tr>\n",
       "  </tbody>\n",
       "</table>\n",
       "</div>"
      ],
      "text/plain": [
       "   Year     Month  BeerConsumption  AverageBeerPrice  AverageRakiPrice  \\\n",
       "0  1987   January         13621800       1338.424656           9715.74   \n",
       "1  1987  February         14346944       1314.441618           9460.31   \n",
       "2  1987     March         14912839       1267.542544           9122.77   \n",
       "3  1987     April         16129850       1241.471640           8935.13   \n",
       "4  1987       May         12140503       1183.481067           8517.76   \n",
       "\n",
       "   AverageCannedSoftDrinkPrice  AverageCannedBeerPrice  AverageDraftBeerPrice  \n",
       "0                      2208.12                2671.750             971.574039  \n",
       "1                      2150.07                2866.475             946.031197  \n",
       "2                      2073.36                2764.199             912.276950  \n",
       "3                      2030.71                2707.345             893.513173  \n",
       "4                      1935.85                2580.882             851.776142  "
      ]
     },
     "execution_count": 2,
     "metadata": {},
     "output_type": "execute_result"
    }
   ],
   "source": [
    "demand_price_df = pd.read_excel(\n",
    "    'data/TablesA3A4.xlsx',\n",
    "    sheet_name = 'Table A3', \n",
    "    skiprows = 3, \n",
    "    nrows = 84, \n",
    "    header = None,\n",
    "    names = [\n",
    "        'Year',\n",
    "        'Month',\n",
    "        'BeerConsumption',\n",
    "        'AverageBeerPrice',\n",
    "        'AverageRakiPrice',\n",
    "        'AverageCannedSoftDrinkPrice',\n",
    "        'AverageCannedBeerPrice',\n",
    "        'AverageDraftBeerPrice'\n",
    "    ]\n",
    ")\n",
    "\n",
    "demand_price_df.head()"
   ]
  },
  {
   "cell_type": "markdown",
   "id": "feef638e-72e4-4165-b7de-ba165428d29c",
   "metadata": {
    "editable": true,
    "slideshow": {
     "slide_type": ""
    },
    "tags": []
   },
   "source": [
    "On your own, create the data frames `tourist_df`, `ramadan_days_df`, and `beer_consumption_df` using the Excel tabs Table A4, RamadanDays, and DailyBeerConsumption, respectively. "
   ]
  },
  {
   "cell_type": "code",
   "execution_count": 3,
   "id": "3af64485-70cc-4ac2-8dd4-5ce0dc271a03",
   "metadata": {
    "editable": true,
    "slideshow": {
     "slide_type": ""
    },
    "tags": []
   },
   "outputs": [
    {
     "data": {
      "text/html": [
       "<div>\n",
       "<style scoped>\n",
       "    .dataframe tbody tr th:only-of-type {\n",
       "        vertical-align: middle;\n",
       "    }\n",
       "\n",
       "    .dataframe tbody tr th {\n",
       "        vertical-align: top;\n",
       "    }\n",
       "\n",
       "    .dataframe thead th {\n",
       "        text-align: right;\n",
       "    }\n",
       "</style>\n",
       "<table border=\"1\" class=\"dataframe\">\n",
       "  <thead>\n",
       "    <tr style=\"text-align: right;\">\n",
       "      <th></th>\n",
       "      <th>Year</th>\n",
       "      <th>Month</th>\n",
       "      <th>Czechoslovakia</th>\n",
       "      <th>Germany</th>\n",
       "      <th>UnitedKingdom</th>\n",
       "      <th>UnitedStates</th>\n",
       "      <th>France</th>\n",
       "      <th>Others</th>\n",
       "    </tr>\n",
       "  </thead>\n",
       "  <tbody>\n",
       "    <tr>\n",
       "      <th>0</th>\n",
       "      <td>1987</td>\n",
       "      <td>January</td>\n",
       "      <td>290</td>\n",
       "      <td>28056</td>\n",
       "      <td>11380</td>\n",
       "      <td>25060</td>\n",
       "      <td>9246</td>\n",
       "      <td>35135</td>\n",
       "    </tr>\n",
       "    <tr>\n",
       "      <th>1</th>\n",
       "      <td>1987</td>\n",
       "      <td>February</td>\n",
       "      <td>253</td>\n",
       "      <td>29715</td>\n",
       "      <td>20630</td>\n",
       "      <td>21648</td>\n",
       "      <td>11941</td>\n",
       "      <td>38488</td>\n",
       "    </tr>\n",
       "    <tr>\n",
       "      <th>2</th>\n",
       "      <td>1987</td>\n",
       "      <td>March</td>\n",
       "      <td>478</td>\n",
       "      <td>67370</td>\n",
       "      <td>30506</td>\n",
       "      <td>30386</td>\n",
       "      <td>15810</td>\n",
       "      <td>53071</td>\n",
       "    </tr>\n",
       "    <tr>\n",
       "      <th>3</th>\n",
       "      <td>1987</td>\n",
       "      <td>April</td>\n",
       "      <td>1025</td>\n",
       "      <td>271147</td>\n",
       "      <td>70016</td>\n",
       "      <td>43137</td>\n",
       "      <td>94247</td>\n",
       "      <td>141639</td>\n",
       "    </tr>\n",
       "    <tr>\n",
       "      <th>4</th>\n",
       "      <td>1987</td>\n",
       "      <td>May</td>\n",
       "      <td>2776</td>\n",
       "      <td>405921</td>\n",
       "      <td>165298</td>\n",
       "      <td>69696</td>\n",
       "      <td>155816</td>\n",
       "      <td>225780</td>\n",
       "    </tr>\n",
       "  </tbody>\n",
       "</table>\n",
       "</div>"
      ],
      "text/plain": [
       "   Year     Month  Czechoslovakia  Germany  UnitedKingdom  UnitedStates  \\\n",
       "0  1987   January             290    28056          11380         25060   \n",
       "1  1987  February             253    29715          20630         21648   \n",
       "2  1987     March             478    67370          30506         30386   \n",
       "3  1987     April            1025   271147          70016         43137   \n",
       "4  1987       May            2776   405921         165298         69696   \n",
       "\n",
       "   France  Others  \n",
       "0    9246   35135  \n",
       "1   11941   38488  \n",
       "2   15810   53071  \n",
       "3   94247  141639  \n",
       "4  155816  225780  "
      ]
     },
     "execution_count": 3,
     "metadata": {},
     "output_type": "execute_result"
    }
   ],
   "source": [
    "tourist_df =  pd.read_excel(\n",
    "    'data/TablesA3A4.xlsx',\n",
    "    sheet_name = 'Table A4', \n",
    "    skiprows = 3, \n",
    "    nrows = 84, \n",
    "    header = None,\n",
    "    names = [\n",
    "        'Year',\n",
    "        'Month',\n",
    "        'Czechoslovakia',\n",
    "        'Germany',\n",
    "        'UnitedKingdom',\n",
    "        'UnitedStates',\n",
    "        'France',\n",
    "        'Others'\n",
    "    ]\n",
    ")\n",
    "\n",
    "tourist_df.head()"
   ]
  },
  {
   "cell_type": "code",
   "execution_count": 4,
   "id": "67d964db-7ff6-4f2b-a559-fb2f9f31a78e",
   "metadata": {
    "editable": true,
    "slideshow": {
     "slide_type": ""
    },
    "tags": []
   },
   "outputs": [
    {
     "data": {
      "text/html": [
       "<div>\n",
       "<style scoped>\n",
       "    .dataframe tbody tr th:only-of-type {\n",
       "        vertical-align: middle;\n",
       "    }\n",
       "\n",
       "    .dataframe tbody tr th {\n",
       "        vertical-align: top;\n",
       "    }\n",
       "\n",
       "    .dataframe thead th {\n",
       "        text-align: right;\n",
       "    }\n",
       "</style>\n",
       "<table border=\"1\" class=\"dataframe\">\n",
       "  <thead>\n",
       "    <tr style=\"text-align: right;\">\n",
       "      <th></th>\n",
       "      <th>Year</th>\n",
       "      <th>Month</th>\n",
       "      <th>RamadanDays</th>\n",
       "    </tr>\n",
       "  </thead>\n",
       "  <tbody>\n",
       "    <tr>\n",
       "      <th>0</th>\n",
       "      <td>1987</td>\n",
       "      <td>January</td>\n",
       "      <td>0</td>\n",
       "    </tr>\n",
       "    <tr>\n",
       "      <th>1</th>\n",
       "      <td>1987</td>\n",
       "      <td>February</td>\n",
       "      <td>0</td>\n",
       "    </tr>\n",
       "    <tr>\n",
       "      <th>2</th>\n",
       "      <td>1987</td>\n",
       "      <td>March</td>\n",
       "      <td>0</td>\n",
       "    </tr>\n",
       "    <tr>\n",
       "      <th>3</th>\n",
       "      <td>1987</td>\n",
       "      <td>April</td>\n",
       "      <td>2</td>\n",
       "    </tr>\n",
       "    <tr>\n",
       "      <th>4</th>\n",
       "      <td>1987</td>\n",
       "      <td>May</td>\n",
       "      <td>28</td>\n",
       "    </tr>\n",
       "  </tbody>\n",
       "</table>\n",
       "</div>"
      ],
      "text/plain": [
       "   Year     Month  RamadanDays\n",
       "0  1987   January            0\n",
       "1  1987  February            0\n",
       "2  1987     March            0\n",
       "3  1987     April            2\n",
       "4  1987       May           28"
      ]
     },
     "execution_count": 4,
     "metadata": {},
     "output_type": "execute_result"
    }
   ],
   "source": [
    "ramadan_days_df = pd.read_excel(\n",
    "    'data/FromCase.xlsx',\n",
    "    sheet_name = 'RamadanDays'\n",
    ")\n",
    "\n",
    "ramadan_days_df.head()"
   ]
  },
  {
   "cell_type": "code",
   "execution_count": 5,
   "id": "f26e8873-cc07-4bd7-bb77-32f185051330",
   "metadata": {
    "editable": true,
    "slideshow": {
     "slide_type": ""
    },
    "tags": []
   },
   "outputs": [
    {
     "data": {
      "text/html": [
       "<div>\n",
       "<style scoped>\n",
       "    .dataframe tbody tr th:only-of-type {\n",
       "        vertical-align: middle;\n",
       "    }\n",
       "\n",
       "    .dataframe tbody tr th {\n",
       "        vertical-align: top;\n",
       "    }\n",
       "\n",
       "    .dataframe thead th {\n",
       "        text-align: right;\n",
       "    }\n",
       "</style>\n",
       "<table border=\"1\" class=\"dataframe\">\n",
       "  <thead>\n",
       "    <tr style=\"text-align: right;\">\n",
       "      <th></th>\n",
       "      <th>Country</th>\n",
       "      <th>AvgDailyBeerConsumptionPerCapita</th>\n",
       "    </tr>\n",
       "  </thead>\n",
       "  <tbody>\n",
       "    <tr>\n",
       "      <th>0</th>\n",
       "      <td>Czechoslovakia</td>\n",
       "      <td>0.446575</td>\n",
       "    </tr>\n",
       "    <tr>\n",
       "      <th>1</th>\n",
       "      <td>Germany</td>\n",
       "      <td>0.378082</td>\n",
       "    </tr>\n",
       "    <tr>\n",
       "      <th>2</th>\n",
       "      <td>UnitedKingdom</td>\n",
       "      <td>0.273973</td>\n",
       "    </tr>\n",
       "    <tr>\n",
       "      <th>3</th>\n",
       "      <td>UnitedStates</td>\n",
       "      <td>0.235616</td>\n",
       "    </tr>\n",
       "    <tr>\n",
       "      <th>4</th>\n",
       "      <td>Others</td>\n",
       "      <td>0.184395</td>\n",
       "    </tr>\n",
       "  </tbody>\n",
       "</table>\n",
       "</div>"
      ],
      "text/plain": [
       "          Country  AvgDailyBeerConsumptionPerCapita\n",
       "0  Czechoslovakia                          0.446575\n",
       "1         Germany                          0.378082\n",
       "2   UnitedKingdom                          0.273973\n",
       "3    UnitedStates                          0.235616\n",
       "4          Others                          0.184395"
      ]
     },
     "execution_count": 5,
     "metadata": {},
     "output_type": "execute_result"
    }
   ],
   "source": [
    "beer_consumption_df = pd.read_excel(\n",
    "    'data/FromCase.xlsx',\n",
    "    sheet_name = 'DailyBeerConsumption'\n",
    ") \n",
    "\n",
    "beer_consumption_df.head()"
   ]
  },
  {
   "cell_type": "markdown",
   "id": "507f9397-1b19-4695-9569-320fa315aedd",
   "metadata": {
    "editable": true,
    "slideshow": {
     "slide_type": ""
    },
    "tags": []
   },
   "source": [
    "## Exploratory data analysis\n",
    "\n",
    "In this project, we want to forecast the beer consumption for the following year. Let's begin by looking at historic beer consumption. Create a graph that plots Beer Consumption by Month and Year. "
   ]
  },
  {
   "cell_type": "code",
   "execution_count": 6,
   "id": "11ca4251-823a-4775-8484-46dbb9677156",
   "metadata": {
    "editable": true,
    "slideshow": {
     "slide_type": ""
    },
    "tags": []
   },
   "outputs": [],
   "source": [
    "colormap = np.array(\n",
    "    [\n",
    "        'black', 'brown', 'red', 'orange', 'yellow', 'green', \n",
    "        'blue', 'cyan',  'purple', 'fuchsia', 'pink', 'white'\n",
    "    ]\n",
    ")\n",
    "\n",
    "months = np.array(\n",
    "    [\n",
    "        strptime(str(x), '%B').tm_mon - 1 \n",
    "        for x in demand_price_df['Month']\n",
    "    ]\n",
    ")"
   ]
  },
  {
   "cell_type": "code",
   "execution_count": 7,
   "id": "e02324ea-88d6-4a13-8f3e-b318e9846196",
   "metadata": {},
   "outputs": [
    {
     "data": {
      "image/png": "[encoded data removed]",
      "text/plain": [
       "<Figure size 640x480 with 1 Axes>"
      ]
     },
     "metadata": {},
     "output_type": "display_data"
    }
   ],
   "source": [
    "plt.plot(\n",
    "    demand_price_df.index, \n",
    "    demand_price_df['BeerConsumption'], \n",
    "    zorder = 1\n",
    ")\n",
    "\n",
    "plt.scatter(\n",
    "    demand_price_df.index, \n",
    "    demand_price_df['BeerConsumption'], \n",
    "    c = colormap[months], \n",
    "    zorder = 2\n",
    ")\n",
    "\n",
    "plt.title('Beer Consumption over Time')\n",
    "plt.xlabel('Time (months)')\n",
    "plt.ylabel('Beer consumption (liters)')\n",
    "plt.show();"
   ]
  },
  {
   "cell_type": "markdown",
   "id": "6694feaf-dbbb-4985-8c35-5a72362c70dd",
   "metadata": {
    "editable": true,
    "slideshow": {
     "slide_type": ""
    },
    "tags": []
   },
   "source": [
    "What do you notice about this graph? "
   ]
  },
  {
   "cell_type": "markdown",
   "id": "cb2bc459-0fbe-4cc6-8073-9e9fc39ad234",
   "metadata": {
    "editable": true,
    "slideshow": {
     "slide_type": ""
    },
    "tags": []
   },
   "source": [
    "- Beer consumption appears to grow over time in general.\n",
    "- Beer consumption also appears to be cyclic.\n",
    "- Beer consumption in the same month year to year follows an upward trend.\n",
    "- Beer consumption appears to spike in the summer months."
   ]
  },
  {
   "attachments": {},
   "cell_type": "markdown",
   "id": "32291063-f62c-4af2-bd67-24aea3ad3167",
   "metadata": {
    "editable": true,
    "slideshow": {
     "slide_type": ""
    },
    "tags": []
   },
   "source": [
    "### Exercise 1 \n",
    "\n",
    "Explore the relationship between beer consumption and the average beer price. What do you notice?  \n",
    "\n",
    "Use the following code cell to conduct your analysis. In complete sentences, write about what you have gathered from these graphs. "
   ]
  },
  {
   "cell_type": "code",
   "execution_count": 8,
   "id": "9d7df123-75a2-45dc-ae89-fb922bd38565",
   "metadata": {
    "editable": true,
    "slideshow": {
     "slide_type": ""
    },
    "tags": []
   },
   "outputs": [
    {
     "data": {
      "image/png": "[encoded data removed]",
      "text/plain": [
       "<Figure size 640x480 with 1 Axes>"
      ]
     },
     "metadata": {},
     "output_type": "display_data"
    }
   ],
   "source": [
    "plt.scatter(\n",
    "    demand_price_df['AverageBeerPrice'], \n",
    "    demand_price_df['BeerConsumption'], \n",
    "    marker = 'o', \n",
    "    c = colormap[months]\n",
    ")\n",
    "\n",
    "plt.title('Beer Consumption vs. Average Beer Price') \n",
    "plt.xlabel('Average Beer Price') \n",
    "plt.ylabel('Beer Consumption (liters)')\n",
    "plt.show();"
   ]
  },
  {
   "cell_type": "markdown",
   "id": "25bbfa0e-9683-41d4-aea9-a68cd469452f",
   "metadata": {
    "editable": true,
    "slideshow": {
     "slide_type": ""
    },
    "tags": [
     "solution"
    ]
   },
   "source": [
    "- There appears to be a slight negative relationship between beer consumption and average beer price. \n",
    "- The month of the year does not appear to have a strong effect."
   ]
  },
  {
   "cell_type": "markdown",
   "id": "4238098b-dce1-4ee9-a4d3-7267efcd59e6",
   "metadata": {
    "editable": true,
    "slideshow": {
     "slide_type": ""
    },
    "tags": []
   },
   "source": [
    "### Exercise 2 \n",
    "This data set also includes information about the average prices of several beer substitutes (Raki, canned soft drinks, canned beer, and draft beer). Think about how this price information may be used in our analysis. Make a graph that demonstrates the relationship between the price of canned beer, the price of Anadolu Efes beer, and the amount of Anadolu Efes beer consumed. "
   ]
  },
  {
   "cell_type": "markdown",
   "id": "e5fb3dd7-4258-4b34-8411-23b1e710b20a",
   "metadata": {},
   "source": [
    "* There are many ways to consider the relationship between the price of canned beer, the price of Anadolu Efes beer, and the amount of Anadolu Efes beer consumed.\n",
    "\n",
    "* One way might be to consider how the _ratio_ between the price of canned beer and the price of Anadolu Efes beer affects beer consumption."
   ]
  },
  {
   "cell_type": "code",
   "execution_count": 9,
   "id": "4364855e-e725-44a2-af1a-7a47896147c3",
   "metadata": {
    "editable": true,
    "slideshow": {
     "slide_type": ""
    },
    "tags": []
   },
   "outputs": [],
   "source": [
    "demand_price_df['CannedBeerToBeerRatio'] = demand_price_df['AverageCannedBeerPrice'] / demand_price_df['AverageBeerPrice']"
   ]
  },
  {
   "cell_type": "code",
   "execution_count": 10,
   "id": "cf416c6f-dbee-4aee-b7e1-7b88d18783d0",
   "metadata": {
    "editable": true,
    "slideshow": {
     "slide_type": ""
    },
    "tags": [
     "solution"
    ]
   },
   "outputs": [
    {
     "data": {
      "image/png": "[encoded data removed]",
      "text/plain": [
       "<Figure size 640x480 with 1 Axes>"
      ]
     },
     "metadata": {},
     "output_type": "display_data"
    }
   ],
   "source": [
    "plt.scatter(\n",
    "    demand_price_df['CannedBeerToBeerRatio'], \n",
    "    demand_price_df['BeerConsumption'], \n",
    "    marker = 'o', \n",
    "    c = colormap[months]\n",
    ")\n",
    "\n",
    "plt.title('Beer Consumption vs. Canned Beer Price to Beer Price Ratio') \n",
    "plt.xlabel('Ratio of Canned Beer Price to Beer Price') \n",
    "plt.ylabel('Beer Consumption (liters)')\n",
    "plt.show();"
   ]
  },
  {
   "cell_type": "markdown",
   "id": "2a2b1c3f-b2ae-4983-91fd-d60db4d1fc9d",
   "metadata": {
    "editable": true,
    "slideshow": {
     "slide_type": ""
    },
    "tags": []
   },
   "source": [
    "## Data wrangling for EDA \n",
    "\n",
    "We want to further investigate the effect of Ramadan on beer consumption. Currently, these are two separate data frames. We are going to wrangle these two separate data frames into a single data frame using the `merge` method. For help with the `merge` method in Pandas, you can reference [the documentation here](https://pandas.pydata.org/pandas-docs/stable/reference/api/pandas.DataFrame.merge.html). "
   ]
  },
  {
   "cell_type": "code",
   "execution_count": 11,
   "id": "c408d4a4-0d06-4157-a61d-ff9f5a342fd8",
   "metadata": {
    "editable": true,
    "slideshow": {
     "slide_type": ""
    },
    "tags": []
   },
   "outputs": [
    {
     "data": {
      "text/html": [
       "<div>\n",
       "<style scoped>\n",
       "    .dataframe tbody tr th:only-of-type {\n",
       "        vertical-align: middle;\n",
       "    }\n",
       "\n",
       "    .dataframe tbody tr th {\n",
       "        vertical-align: top;\n",
       "    }\n",
       "\n",
       "    .dataframe thead th {\n",
       "        text-align: right;\n",
       "    }\n",
       "</style>\n",
       "<table border=\"1\" class=\"dataframe\">\n",
       "  <thead>\n",
       "    <tr style=\"text-align: right;\">\n",
       "      <th></th>\n",
       "      <th>Year</th>\n",
       "      <th>Month</th>\n",
       "      <th>BeerConsumption</th>\n",
       "      <th>AverageBeerPrice</th>\n",
       "      <th>AverageRakiPrice</th>\n",
       "      <th>AverageCannedSoftDrinkPrice</th>\n",
       "      <th>AverageCannedBeerPrice</th>\n",
       "      <th>AverageDraftBeerPrice</th>\n",
       "      <th>CannedBeerToBeerRatio</th>\n",
       "    </tr>\n",
       "  </thead>\n",
       "  <tbody>\n",
       "    <tr>\n",
       "      <th>0</th>\n",
       "      <td>1987</td>\n",
       "      <td>January</td>\n",
       "      <td>13621800</td>\n",
       "      <td>1338.424656</td>\n",
       "      <td>9715.74</td>\n",
       "      <td>2208.12</td>\n",
       "      <td>2671.750</td>\n",
       "      <td>971.574039</td>\n",
       "      <td>1.996190</td>\n",
       "    </tr>\n",
       "    <tr>\n",
       "      <th>1</th>\n",
       "      <td>1987</td>\n",
       "      <td>February</td>\n",
       "      <td>14346944</td>\n",
       "      <td>1314.441618</td>\n",
       "      <td>9460.31</td>\n",
       "      <td>2150.07</td>\n",
       "      <td>2866.475</td>\n",
       "      <td>946.031197</td>\n",
       "      <td>2.180755</td>\n",
       "    </tr>\n",
       "    <tr>\n",
       "      <th>2</th>\n",
       "      <td>1987</td>\n",
       "      <td>March</td>\n",
       "      <td>14912839</td>\n",
       "      <td>1267.542544</td>\n",
       "      <td>9122.77</td>\n",
       "      <td>2073.36</td>\n",
       "      <td>2764.199</td>\n",
       "      <td>912.276950</td>\n",
       "      <td>2.180754</td>\n",
       "    </tr>\n",
       "    <tr>\n",
       "      <th>3</th>\n",
       "      <td>1987</td>\n",
       "      <td>April</td>\n",
       "      <td>16129850</td>\n",
       "      <td>1241.471640</td>\n",
       "      <td>8935.13</td>\n",
       "      <td>2030.71</td>\n",
       "      <td>2707.345</td>\n",
       "      <td>893.513173</td>\n",
       "      <td>2.180755</td>\n",
       "    </tr>\n",
       "    <tr>\n",
       "      <th>4</th>\n",
       "      <td>1987</td>\n",
       "      <td>May</td>\n",
       "      <td>12140503</td>\n",
       "      <td>1183.481067</td>\n",
       "      <td>8517.76</td>\n",
       "      <td>1935.85</td>\n",
       "      <td>2580.882</td>\n",
       "      <td>851.776142</td>\n",
       "      <td>2.180755</td>\n",
       "    </tr>\n",
       "  </tbody>\n",
       "</table>\n",
       "</div>"
      ],
      "text/plain": [
       "   Year     Month  BeerConsumption  AverageBeerPrice  AverageRakiPrice  \\\n",
       "0  1987   January         13621800       1338.424656           9715.74   \n",
       "1  1987  February         14346944       1314.441618           9460.31   \n",
       "2  1987     March         14912839       1267.542544           9122.77   \n",
       "3  1987     April         16129850       1241.471640           8935.13   \n",
       "4  1987       May         12140503       1183.481067           8517.76   \n",
       "\n",
       "   AverageCannedSoftDrinkPrice  AverageCannedBeerPrice  AverageDraftBeerPrice  \\\n",
       "0                      2208.12                2671.750             971.574039   \n",
       "1                      2150.07                2866.475             946.031197   \n",
       "2                      2073.36                2764.199             912.276950   \n",
       "3                      2030.71                2707.345             893.513173   \n",
       "4                      1935.85                2580.882             851.776142   \n",
       "\n",
       "   CannedBeerToBeerRatio  \n",
       "0               1.996190  \n",
       "1               2.180755  \n",
       "2               2.180754  \n",
       "3               2.180755  \n",
       "4               2.180755  "
      ]
     },
     "execution_count": 11,
     "metadata": {},
     "output_type": "execute_result"
    }
   ],
   "source": [
    "demand_price_df.head()"
   ]
  },
  {
   "cell_type": "code",
   "execution_count": 12,
   "id": "1caae2c5-59a5-4ae7-a949-e0e4d11166c1",
   "metadata": {
    "editable": true,
    "slideshow": {
     "slide_type": ""
    },
    "tags": []
   },
   "outputs": [
    {
     "data": {
      "text/html": [
       "<div>\n",
       "<style scoped>\n",
       "    .dataframe tbody tr th:only-of-type {\n",
       "        vertical-align: middle;\n",
       "    }\n",
       "\n",
       "    .dataframe tbody tr th {\n",
       "        vertical-align: top;\n",
       "    }\n",
       "\n",
       "    .dataframe thead th {\n",
       "        text-align: right;\n",
       "    }\n",
       "</style>\n",
       "<table border=\"1\" class=\"dataframe\">\n",
       "  <thead>\n",
       "    <tr style=\"text-align: right;\">\n",
       "      <th></th>\n",
       "      <th>Year</th>\n",
       "      <th>Month</th>\n",
       "      <th>RamadanDays</th>\n",
       "    </tr>\n",
       "  </thead>\n",
       "  <tbody>\n",
       "    <tr>\n",
       "      <th>0</th>\n",
       "      <td>1987</td>\n",
       "      <td>January</td>\n",
       "      <td>0</td>\n",
       "    </tr>\n",
       "    <tr>\n",
       "      <th>1</th>\n",
       "      <td>1987</td>\n",
       "      <td>February</td>\n",
       "      <td>0</td>\n",
       "    </tr>\n",
       "    <tr>\n",
       "      <th>2</th>\n",
       "      <td>1987</td>\n",
       "      <td>March</td>\n",
       "      <td>0</td>\n",
       "    </tr>\n",
       "    <tr>\n",
       "      <th>3</th>\n",
       "      <td>1987</td>\n",
       "      <td>April</td>\n",
       "      <td>2</td>\n",
       "    </tr>\n",
       "    <tr>\n",
       "      <th>4</th>\n",
       "      <td>1987</td>\n",
       "      <td>May</td>\n",
       "      <td>28</td>\n",
       "    </tr>\n",
       "  </tbody>\n",
       "</table>\n",
       "</div>"
      ],
      "text/plain": [
       "   Year     Month  RamadanDays\n",
       "0  1987   January            0\n",
       "1  1987  February            0\n",
       "2  1987     March            0\n",
       "3  1987     April            2\n",
       "4  1987       May           28"
      ]
     },
     "execution_count": 12,
     "metadata": {},
     "output_type": "execute_result"
    }
   ],
   "source": [
    "ramadan_days_df.head()"
   ]
  },
  {
   "cell_type": "markdown",
   "id": "6064e2ed-ef03-4645-af53-aec7fa654cff",
   "metadata": {
    "editable": true,
    "slideshow": {
     "slide_type": ""
    },
    "tags": []
   },
   "source": [
    "To merge the data frames based on the values of Year and Month, we can do this:"
   ]
  },
  {
   "cell_type": "code",
   "execution_count": 13,
   "id": "ee603ff7-b6f0-4bc6-9a91-dfca04520836",
   "metadata": {
    "editable": true,
    "slideshow": {
     "slide_type": ""
    },
    "tags": []
   },
   "outputs": [
    {
     "data": {
      "text/html": [
       "<div>\n",
       "<style scoped>\n",
       "    .dataframe tbody tr th:only-of-type {\n",
       "        vertical-align: middle;\n",
       "    }\n",
       "\n",
       "    .dataframe tbody tr th {\n",
       "        vertical-align: top;\n",
       "    }\n",
       "\n",
       "    .dataframe thead th {\n",
       "        text-align: right;\n",
       "    }\n",
       "</style>\n",
       "<table border=\"1\" class=\"dataframe\">\n",
       "  <thead>\n",
       "    <tr style=\"text-align: right;\">\n",
       "      <th></th>\n",
       "      <th>Year</th>\n",
       "      <th>Month</th>\n",
       "      <th>BeerConsumption</th>\n",
       "      <th>AverageBeerPrice</th>\n",
       "      <th>AverageRakiPrice</th>\n",
       "      <th>AverageCannedSoftDrinkPrice</th>\n",
       "      <th>AverageCannedBeerPrice</th>\n",
       "      <th>AverageDraftBeerPrice</th>\n",
       "      <th>CannedBeerToBeerRatio</th>\n",
       "      <th>RamadanDays</th>\n",
       "    </tr>\n",
       "  </thead>\n",
       "  <tbody>\n",
       "    <tr>\n",
       "      <th>0</th>\n",
       "      <td>1987</td>\n",
       "      <td>January</td>\n",
       "      <td>13621800</td>\n",
       "      <td>1338.424656</td>\n",
       "      <td>9715.74</td>\n",
       "      <td>2208.12</td>\n",
       "      <td>2671.750</td>\n",
       "      <td>971.574039</td>\n",
       "      <td>1.996190</td>\n",
       "      <td>0</td>\n",
       "    </tr>\n",
       "    <tr>\n",
       "      <th>1</th>\n",
       "      <td>1987</td>\n",
       "      <td>February</td>\n",
       "      <td>14346944</td>\n",
       "      <td>1314.441618</td>\n",
       "      <td>9460.31</td>\n",
       "      <td>2150.07</td>\n",
       "      <td>2866.475</td>\n",
       "      <td>946.031197</td>\n",
       "      <td>2.180755</td>\n",
       "      <td>0</td>\n",
       "    </tr>\n",
       "    <tr>\n",
       "      <th>2</th>\n",
       "      <td>1987</td>\n",
       "      <td>March</td>\n",
       "      <td>14912839</td>\n",
       "      <td>1267.542544</td>\n",
       "      <td>9122.77</td>\n",
       "      <td>2073.36</td>\n",
       "      <td>2764.199</td>\n",
       "      <td>912.276950</td>\n",
       "      <td>2.180754</td>\n",
       "      <td>0</td>\n",
       "    </tr>\n",
       "    <tr>\n",
       "      <th>3</th>\n",
       "      <td>1987</td>\n",
       "      <td>April</td>\n",
       "      <td>16129850</td>\n",
       "      <td>1241.471640</td>\n",
       "      <td>8935.13</td>\n",
       "      <td>2030.71</td>\n",
       "      <td>2707.345</td>\n",
       "      <td>893.513173</td>\n",
       "      <td>2.180755</td>\n",
       "      <td>2</td>\n",
       "    </tr>\n",
       "    <tr>\n",
       "      <th>4</th>\n",
       "      <td>1987</td>\n",
       "      <td>May</td>\n",
       "      <td>12140503</td>\n",
       "      <td>1183.481067</td>\n",
       "      <td>8517.76</td>\n",
       "      <td>1935.85</td>\n",
       "      <td>2580.882</td>\n",
       "      <td>851.776142</td>\n",
       "      <td>2.180755</td>\n",
       "      <td>28</td>\n",
       "    </tr>\n",
       "  </tbody>\n",
       "</table>\n",
       "</div>"
      ],
      "text/plain": [
       "   Year     Month  BeerConsumption  AverageBeerPrice  AverageRakiPrice  \\\n",
       "0  1987   January         13621800       1338.424656           9715.74   \n",
       "1  1987  February         14346944       1314.441618           9460.31   \n",
       "2  1987     March         14912839       1267.542544           9122.77   \n",
       "3  1987     April         16129850       1241.471640           8935.13   \n",
       "4  1987       May         12140503       1183.481067           8517.76   \n",
       "\n",
       "   AverageCannedSoftDrinkPrice  AverageCannedBeerPrice  AverageDraftBeerPrice  \\\n",
       "0                      2208.12                2671.750             971.574039   \n",
       "1                      2150.07                2866.475             946.031197   \n",
       "2                      2073.36                2764.199             912.276950   \n",
       "3                      2030.71                2707.345             893.513173   \n",
       "4                      1935.85                2580.882             851.776142   \n",
       "\n",
       "   CannedBeerToBeerRatio  RamadanDays  \n",
       "0               1.996190            0  \n",
       "1               2.180755            0  \n",
       "2               2.180754            0  \n",
       "3               2.180755            2  \n",
       "4               2.180755           28  "
      ]
     },
     "execution_count": 13,
     "metadata": {},
     "output_type": "execute_result"
    }
   ],
   "source": [
    "merged_df = demand_price_df.merge(ramadan_days_df, how = 'inner', on = ['Year', 'Month']) \n",
    "merged_df.head()"
   ]
  },
  {
   "cell_type": "markdown",
   "id": "e470dd24-73e5-450c-8d4c-8ef6fc645e3e",
   "metadata": {
    "editable": true,
    "slideshow": {
     "slide_type": ""
    },
    "tags": []
   },
   "source": [
    "Create a histogram that demonstrates the difference in beer consumption during months which Ramadan occurs. "
   ]
  },
  {
   "cell_type": "code",
   "execution_count": 14,
   "id": "f9174ea5-4614-4b09-9b2a-ac1e255f998f",
   "metadata": {
    "editable": true,
    "slideshow": {
     "slide_type": ""
    },
    "tags": []
   },
   "outputs": [
    {
     "data": {
      "image/png": "[encoded data removed]",
      "text/plain": [
       "<Figure size 640x480 with 1 Axes>"
      ]
     },
     "metadata": {},
     "output_type": "display_data"
    }
   ],
   "source": [
    "bins = np.linspace(0, 70000000, 10)\n",
    "\n",
    "plt.hist(merged_df.query('RamadanDays > 0')['BeerConsumption'], bins, color = 'orange', alpha = 0.3, label = 'Ramadan')\n",
    "plt.hist(merged_df.query('RamadanDays == 0')['BeerConsumption'], bins, color = 'blue', alpha = 0.3, label = 'Non-Ramadan')\n",
    "plt.legend()\n",
    "plt.xlabel('Monthly beer consumption (liters)')\n",
    "plt.ylabel('Frequency')\n",
    "plt.title('Frequency of Monthly Beer Consumption in Ramadan and Non-Ramadan months')\n",
    "plt.show();"
   ]
  },
  {
   "cell_type": "markdown",
   "id": "98de2d55-3b70-444c-b4b9-9f9765fd6a01",
   "metadata": {
    "editable": true,
    "slideshow": {
     "slide_type": ""
    },
    "tags": []
   },
   "source": [
    "### Exercise 3 \n",
    "We want to consider how tourism affects beer consumption. Wrangle the `merged_df`, `tourist_df`, and `beer_consumption_df` to create one data frame called `all_df`. Create a graph to help us understand how much tourist beer consumption affects the total beer consumption at Anadolu Efes."
   ]
  },
  {
   "cell_type": "code",
   "execution_count": 15,
   "id": "2f14eab0-fa49-4735-abd3-f2fb418da75d",
   "metadata": {},
   "outputs": [
    {
     "data": {
      "text/html": [
       "<div>\n",
       "<style scoped>\n",
       "    .dataframe tbody tr th:only-of-type {\n",
       "        vertical-align: middle;\n",
       "    }\n",
       "\n",
       "    .dataframe tbody tr th {\n",
       "        vertical-align: top;\n",
       "    }\n",
       "\n",
       "    .dataframe thead th {\n",
       "        text-align: right;\n",
       "    }\n",
       "</style>\n",
       "<table border=\"1\" class=\"dataframe\">\n",
       "  <thead>\n",
       "    <tr style=\"text-align: right;\">\n",
       "      <th></th>\n",
       "      <th>AvgDailyBeerConsumptionPerCapita</th>\n",
       "    </tr>\n",
       "    <tr>\n",
       "      <th>Country</th>\n",
       "      <th></th>\n",
       "    </tr>\n",
       "  </thead>\n",
       "  <tbody>\n",
       "    <tr>\n",
       "      <th>Czechoslovakia</th>\n",
       "      <td>0.446575</td>\n",
       "    </tr>\n",
       "    <tr>\n",
       "      <th>Germany</th>\n",
       "      <td>0.378082</td>\n",
       "    </tr>\n",
       "    <tr>\n",
       "      <th>UnitedKingdom</th>\n",
       "      <td>0.273973</td>\n",
       "    </tr>\n",
       "    <tr>\n",
       "      <th>UnitedStates</th>\n",
       "      <td>0.235616</td>\n",
       "    </tr>\n",
       "    <tr>\n",
       "      <th>Others</th>\n",
       "      <td>0.184395</td>\n",
       "    </tr>\n",
       "  </tbody>\n",
       "</table>\n",
       "</div>"
      ],
      "text/plain": [
       "                AvgDailyBeerConsumptionPerCapita\n",
       "Country                                         \n",
       "Czechoslovakia                          0.446575\n",
       "Germany                                 0.378082\n",
       "UnitedKingdom                           0.273973\n",
       "UnitedStates                            0.235616\n",
       "Others                                  0.184395"
      ]
     },
     "execution_count": 15,
     "metadata": {},
     "output_type": "execute_result"
    }
   ],
   "source": [
    "beer_consumption_df = pd.read_excel(\n",
    "    'data/FromCase.xlsx',\n",
    "    sheet_name = 'DailyBeerConsumption',\n",
    "    index_col = 'Country'\n",
    ")\n",
    "\n",
    "beer_consumption_df.head()"
   ]
  },
  {
   "cell_type": "code",
   "execution_count": 16,
   "id": "dfb1722d-f342-4e14-9a70-2c787905e515",
   "metadata": {
    "editable": true,
    "slideshow": {
     "slide_type": ""
    },
    "tags": [
     "solution"
    ]
   },
   "outputs": [
    {
     "data": {
      "text/html": [
       "<div>\n",
       "<style scoped>\n",
       "    .dataframe tbody tr th:only-of-type {\n",
       "        vertical-align: middle;\n",
       "    }\n",
       "\n",
       "    .dataframe tbody tr th {\n",
       "        vertical-align: top;\n",
       "    }\n",
       "\n",
       "    .dataframe thead th {\n",
       "        text-align: right;\n",
       "    }\n",
       "</style>\n",
       "<table border=\"1\" class=\"dataframe\">\n",
       "  <thead>\n",
       "    <tr style=\"text-align: right;\">\n",
       "      <th></th>\n",
       "      <th>Year</th>\n",
       "      <th>Month</th>\n",
       "      <th>BeerConsumption</th>\n",
       "      <th>AverageBeerPrice</th>\n",
       "      <th>AverageRakiPrice</th>\n",
       "      <th>AverageCannedSoftDrinkPrice</th>\n",
       "      <th>AverageCannedBeerPrice</th>\n",
       "      <th>AverageDraftBeerPrice</th>\n",
       "      <th>CannedBeerToBeerRatio</th>\n",
       "      <th>Czechoslovakia</th>\n",
       "      <th>Germany</th>\n",
       "      <th>UnitedKingdom</th>\n",
       "      <th>UnitedStates</th>\n",
       "      <th>France</th>\n",
       "      <th>Others</th>\n",
       "      <th>RamadanDays</th>\n",
       "    </tr>\n",
       "  </thead>\n",
       "  <tbody>\n",
       "    <tr>\n",
       "      <th>0</th>\n",
       "      <td>1987</td>\n",
       "      <td>January</td>\n",
       "      <td>13621800</td>\n",
       "      <td>1338.424656</td>\n",
       "      <td>9715.74</td>\n",
       "      <td>2208.12</td>\n",
       "      <td>2671.750</td>\n",
       "      <td>971.574039</td>\n",
       "      <td>1.996190</td>\n",
       "      <td>290</td>\n",
       "      <td>28056</td>\n",
       "      <td>11380</td>\n",
       "      <td>25060</td>\n",
       "      <td>9246</td>\n",
       "      <td>35135</td>\n",
       "      <td>0</td>\n",
       "    </tr>\n",
       "    <tr>\n",
       "      <th>1</th>\n",
       "      <td>1987</td>\n",
       "      <td>February</td>\n",
       "      <td>14346944</td>\n",
       "      <td>1314.441618</td>\n",
       "      <td>9460.31</td>\n",
       "      <td>2150.07</td>\n",
       "      <td>2866.475</td>\n",
       "      <td>946.031197</td>\n",
       "      <td>2.180755</td>\n",
       "      <td>253</td>\n",
       "      <td>29715</td>\n",
       "      <td>20630</td>\n",
       "      <td>21648</td>\n",
       "      <td>11941</td>\n",
       "      <td>38488</td>\n",
       "      <td>0</td>\n",
       "    </tr>\n",
       "    <tr>\n",
       "      <th>2</th>\n",
       "      <td>1987</td>\n",
       "      <td>March</td>\n",
       "      <td>14912839</td>\n",
       "      <td>1267.542544</td>\n",
       "      <td>9122.77</td>\n",
       "      <td>2073.36</td>\n",
       "      <td>2764.199</td>\n",
       "      <td>912.276950</td>\n",
       "      <td>2.180754</td>\n",
       "      <td>478</td>\n",
       "      <td>67370</td>\n",
       "      <td>30506</td>\n",
       "      <td>30386</td>\n",
       "      <td>15810</td>\n",
       "      <td>53071</td>\n",
       "      <td>0</td>\n",
       "    </tr>\n",
       "    <tr>\n",
       "      <th>3</th>\n",
       "      <td>1987</td>\n",
       "      <td>April</td>\n",
       "      <td>16129850</td>\n",
       "      <td>1241.471640</td>\n",
       "      <td>8935.13</td>\n",
       "      <td>2030.71</td>\n",
       "      <td>2707.345</td>\n",
       "      <td>893.513173</td>\n",
       "      <td>2.180755</td>\n",
       "      <td>1025</td>\n",
       "      <td>271147</td>\n",
       "      <td>70016</td>\n",
       "      <td>43137</td>\n",
       "      <td>94247</td>\n",
       "      <td>141639</td>\n",
       "      <td>2</td>\n",
       "    </tr>\n",
       "    <tr>\n",
       "      <th>4</th>\n",
       "      <td>1987</td>\n",
       "      <td>May</td>\n",
       "      <td>12140503</td>\n",
       "      <td>1183.481067</td>\n",
       "      <td>8517.76</td>\n",
       "      <td>1935.85</td>\n",
       "      <td>2580.882</td>\n",
       "      <td>851.776142</td>\n",
       "      <td>2.180755</td>\n",
       "      <td>2776</td>\n",
       "      <td>405921</td>\n",
       "      <td>165298</td>\n",
       "      <td>69696</td>\n",
       "      <td>155816</td>\n",
       "      <td>225780</td>\n",
       "      <td>28</td>\n",
       "    </tr>\n",
       "  </tbody>\n",
       "</table>\n",
       "</div>"
      ],
      "text/plain": [
       "   Year     Month  BeerConsumption  AverageBeerPrice  AverageRakiPrice  \\\n",
       "0  1987   January         13621800       1338.424656           9715.74   \n",
       "1  1987  February         14346944       1314.441618           9460.31   \n",
       "2  1987     March         14912839       1267.542544           9122.77   \n",
       "3  1987     April         16129850       1241.471640           8935.13   \n",
       "4  1987       May         12140503       1183.481067           8517.76   \n",
       "\n",
       "   AverageCannedSoftDrinkPrice  AverageCannedBeerPrice  AverageDraftBeerPrice  \\\n",
       "0                      2208.12                2671.750             971.574039   \n",
       "1                      2150.07                2866.475             946.031197   \n",
       "2                      2073.36                2764.199             912.276950   \n",
       "3                      2030.71                2707.345             893.513173   \n",
       "4                      1935.85                2580.882             851.776142   \n",
       "\n",
       "   CannedBeerToBeerRatio  Czechoslovakia  Germany  UnitedKingdom  \\\n",
       "0               1.996190             290    28056          11380   \n",
       "1               2.180755             253    29715          20630   \n",
       "2               2.180754             478    67370          30506   \n",
       "3               2.180755            1025   271147          70016   \n",
       "4               2.180755            2776   405921         165298   \n",
       "\n",
       "   UnitedStates  France  Others  RamadanDays  \n",
       "0         25060    9246   35135            0  \n",
       "1         21648   11941   38488            0  \n",
       "2         30386   15810   53071            0  \n",
       "3         43137   94247  141639            2  \n",
       "4         69696  155816  225780           28  "
      ]
     },
     "execution_count": 16,
     "metadata": {},
     "output_type": "execute_result"
    }
   ],
   "source": [
    "all_df = (\n",
    "    demand_price_df\n",
    "    .merge(tourist_df, on=['Year', 'Month'], how='inner')\n",
    "    .merge(ramadan_days_df, on=['Year', 'Month'], how='inner')\n",
    ")\n",
    "\n",
    "all_df.head()"
   ]
  },
  {
   "cell_type": "code",
   "execution_count": 17,
   "id": "99a35d88-1ea5-41f6-a539-24de5ce9e1ac",
   "metadata": {
    "editable": true,
    "slideshow": {
     "slide_type": ""
    },
    "tags": [
     "solution"
    ]
   },
   "outputs": [
    {
     "data": {
      "text/html": [
       "<div>\n",
       "<style scoped>\n",
       "    .dataframe tbody tr th:only-of-type {\n",
       "        vertical-align: middle;\n",
       "    }\n",
       "\n",
       "    .dataframe tbody tr th {\n",
       "        vertical-align: top;\n",
       "    }\n",
       "\n",
       "    .dataframe thead th {\n",
       "        text-align: right;\n",
       "    }\n",
       "</style>\n",
       "<table border=\"1\" class=\"dataframe\">\n",
       "  <thead>\n",
       "    <tr style=\"text-align: right;\">\n",
       "      <th></th>\n",
       "      <th>Year</th>\n",
       "      <th>Month</th>\n",
       "      <th>BeerConsumption</th>\n",
       "      <th>AverageBeerPrice</th>\n",
       "      <th>AverageRakiPrice</th>\n",
       "      <th>AverageCannedSoftDrinkPrice</th>\n",
       "      <th>AverageCannedBeerPrice</th>\n",
       "      <th>AverageDraftBeerPrice</th>\n",
       "      <th>CannedBeerToBeerRatio</th>\n",
       "      <th>Czechoslovakia</th>\n",
       "      <th>Germany</th>\n",
       "      <th>UnitedKingdom</th>\n",
       "      <th>UnitedStates</th>\n",
       "      <th>France</th>\n",
       "      <th>Others</th>\n",
       "      <th>RamadanDays</th>\n",
       "      <th>TouristBeerConsumption</th>\n",
       "    </tr>\n",
       "  </thead>\n",
       "  <tbody>\n",
       "    <tr>\n",
       "      <th>0</th>\n",
       "      <td>1987</td>\n",
       "      <td>January</td>\n",
       "      <td>13621800</td>\n",
       "      <td>1338.424656</td>\n",
       "      <td>9715.74</td>\n",
       "      <td>2208.12</td>\n",
       "      <td>2671.750</td>\n",
       "      <td>971.574039</td>\n",
       "      <td>1.996190</td>\n",
       "      <td>290</td>\n",
       "      <td>28056</td>\n",
       "      <td>11380</td>\n",
       "      <td>25060</td>\n",
       "      <td>9246</td>\n",
       "      <td>35135</td>\n",
       "      <td>0</td>\n",
       "      <td>27226.000715</td>\n",
       "    </tr>\n",
       "    <tr>\n",
       "      <th>1</th>\n",
       "      <td>1987</td>\n",
       "      <td>February</td>\n",
       "      <td>14346944</td>\n",
       "      <td>1314.441618</td>\n",
       "      <td>9460.31</td>\n",
       "      <td>2150.07</td>\n",
       "      <td>2866.475</td>\n",
       "      <td>946.031197</td>\n",
       "      <td>2.180755</td>\n",
       "      <td>253</td>\n",
       "      <td>29715</td>\n",
       "      <td>20630</td>\n",
       "      <td>21648</td>\n",
       "      <td>11941</td>\n",
       "      <td>38488</td>\n",
       "      <td>0</td>\n",
       "      <td>30473.275998</td>\n",
       "    </tr>\n",
       "    <tr>\n",
       "      <th>2</th>\n",
       "      <td>1987</td>\n",
       "      <td>March</td>\n",
       "      <td>14912839</td>\n",
       "      <td>1267.542544</td>\n",
       "      <td>9122.77</td>\n",
       "      <td>2073.36</td>\n",
       "      <td>2764.199</td>\n",
       "      <td>912.276950</td>\n",
       "      <td>2.180754</td>\n",
       "      <td>478</td>\n",
       "      <td>67370</td>\n",
       "      <td>30506</td>\n",
       "      <td>30386</td>\n",
       "      <td>15810</td>\n",
       "      <td>53071</td>\n",
       "      <td>0</td>\n",
       "      <td>52677.449434</td>\n",
       "    </tr>\n",
       "    <tr>\n",
       "      <th>3</th>\n",
       "      <td>1987</td>\n",
       "      <td>April</td>\n",
       "      <td>16129850</td>\n",
       "      <td>1241.471640</td>\n",
       "      <td>8935.13</td>\n",
       "      <td>2030.71</td>\n",
       "      <td>2707.345</td>\n",
       "      <td>893.513173</td>\n",
       "      <td>2.180755</td>\n",
       "      <td>1025</td>\n",
       "      <td>271147</td>\n",
       "      <td>70016</td>\n",
       "      <td>43137</td>\n",
       "      <td>94247</td>\n",
       "      <td>141639</td>\n",
       "      <td>2</td>\n",
       "      <td>168507.661703</td>\n",
       "    </tr>\n",
       "    <tr>\n",
       "      <th>4</th>\n",
       "      <td>1987</td>\n",
       "      <td>May</td>\n",
       "      <td>12140503</td>\n",
       "      <td>1183.481067</td>\n",
       "      <td>8517.76</td>\n",
       "      <td>1935.85</td>\n",
       "      <td>2580.882</td>\n",
       "      <td>851.776142</td>\n",
       "      <td>2.180755</td>\n",
       "      <td>2776</td>\n",
       "      <td>405921</td>\n",
       "      <td>165298</td>\n",
       "      <td>69696</td>\n",
       "      <td>155816</td>\n",
       "      <td>225780</td>\n",
       "      <td>28</td>\n",
       "      <td>274701.483979</td>\n",
       "    </tr>\n",
       "  </tbody>\n",
       "</table>\n",
       "</div>"
      ],
      "text/plain": [
       "   Year     Month  BeerConsumption  AverageBeerPrice  AverageRakiPrice  \\\n",
       "0  1987   January         13621800       1338.424656           9715.74   \n",
       "1  1987  February         14346944       1314.441618           9460.31   \n",
       "2  1987     March         14912839       1267.542544           9122.77   \n",
       "3  1987     April         16129850       1241.471640           8935.13   \n",
       "4  1987       May         12140503       1183.481067           8517.76   \n",
       "\n",
       "   AverageCannedSoftDrinkPrice  AverageCannedBeerPrice  AverageDraftBeerPrice  \\\n",
       "0                      2208.12                2671.750             971.574039   \n",
       "1                      2150.07                2866.475             946.031197   \n",
       "2                      2073.36                2764.199             912.276950   \n",
       "3                      2030.71                2707.345             893.513173   \n",
       "4                      1935.85                2580.882             851.776142   \n",
       "\n",
       "   CannedBeerToBeerRatio  Czechoslovakia  Germany  UnitedKingdom  \\\n",
       "0               1.996190             290    28056          11380   \n",
       "1               2.180755             253    29715          20630   \n",
       "2               2.180754             478    67370          30506   \n",
       "3               2.180755            1025   271147          70016   \n",
       "4               2.180755            2776   405921         165298   \n",
       "\n",
       "   UnitedStates  France  Others  RamadanDays  TouristBeerConsumption  \n",
       "0         25060    9246   35135            0            27226.000715  \n",
       "1         21648   11941   38488            0            30473.275998  \n",
       "2         30386   15810   53071            0            52677.449434  \n",
       "3         43137   94247  141639            2           168507.661703  \n",
       "4         69696  155816  225780           28           274701.483979  "
      ]
     },
     "execution_count": 17,
     "metadata": {},
     "output_type": "execute_result"
    }
   ],
   "source": [
    "all_df['TouristBeerConsumption'] = ( \n",
    "    all_df['Czechoslovakia'] * beer_consumption_df['AvgDailyBeerConsumptionPerCapita']['Czechoslovakia']\n",
    "    + all_df['Germany'] * beer_consumption_df['AvgDailyBeerConsumptionPerCapita']['Germany'] \n",
    "    + all_df['UnitedKingdom'] * beer_consumption_df['AvgDailyBeerConsumptionPerCapita']['UnitedKingdom']\n",
    "    + all_df['UnitedStates'] * beer_consumption_df['AvgDailyBeerConsumptionPerCapita']['UnitedStates'] \n",
    "    + all_df['France'] * beer_consumption_df['AvgDailyBeerConsumptionPerCapita']['France']\n",
    "    + all_df['Others'] * beer_consumption_df['AvgDailyBeerConsumptionPerCapita']['Others']\n",
    ")\n",
    "\n",
    "all_df.head()"
   ]
  },
  {
   "cell_type": "code",
   "execution_count": 18,
   "id": "ae02b723-2645-4488-94ba-c638b0567b5e",
   "metadata": {
    "editable": true,
    "slideshow": {
     "slide_type": ""
    },
    "tags": [
     "solution"
    ]
   },
   "outputs": [
    {
     "data": {
      "image/png": "[encoded data removed]",
      "text/plain": [
       "<Figure size 640x480 with 1 Axes>"
      ]
     },
     "metadata": {},
     "output_type": "display_data"
    }
   ],
   "source": [
    "plt.scatter(all_df['TouristBeerConsumption'], all_df['BeerConsumption'])\n",
    "plt.title('Beer Consumption vs. Tourist Beer Consumption') \n",
    "plt.xlabel('Tourist Beer Consumption (liters)') \n",
    "plt.ylabel('Beer Consumption (liters)')\n",
    "plt.show()"
   ]
  }
 ],
 "metadata": {
  "kernelspec": {
   "display_name": "Python 3 (ipykernel)",
   "language": "python",
   "name": "python3"
  },
  "language_info": {
   "codemirror_mode": {
    "name": "ipython",
    "version": 3
   },
   "file_extension": ".py",
   "mimetype": "text/x-python",
   "name": "python",
   "nbconvert_exporter": "python",
   "pygments_lexer": "ipython3",
   "version": "3.12.3"
  }
 },
 "nbformat": 4,
 "nbformat_minor": 5
}
